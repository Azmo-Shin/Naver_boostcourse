{
 "cells": [
  {
   "cell_type": "markdown",
   "metadata": {},
   "source": [
    "분석 : 캐글러 대상 설문조사\n",
    "설문기간 : 2017년 8월 7일 ~ 8월 25일\n",
    "응답자 : 171개 국가 및 지역 16,716명\n",
    "특징\n",
    "    50명 미만의 특정 국가 및 지역일 경우 '기타'그룹\n",
    "    설문조사 시스템에 신고 된 응답자와 필수질문(취업상태)에 미응답자 제외\n",
    "    대부분의 조사자는 이메일, 토론 포럼 및 소셜미디어 캐글 채널로 설문을 알게 됨\n",
    "    급여데이터는 일부 통화에서만 받고 해당 되는 통화에 기준하여 작성\n",
    "    미국 달러로 환산이 가능한 csv제공\n",
    "    취업자와 미취업자의 설문은 다름\n",
    "\n",
    "데이터파일\n",
    "    schema.csv : 설문 스키마가 있는 csv. 이 스키마에는 multipleChoiceResponses.csv 및 freeformResponses.csv의 각 열에 해당하는 질문 포함\n",
    "    multipleChoiceResponses.csv : 객관식 및 순위 질문 응다바자 답변, 각 행은 한 응답자의 응답\n",
    "    freeformResponses.csv : Kaggle의 설문조사 질문에 대한 응답의 주관식 답변. 임의로 지정되어 각 행이 같은 응답자를 나타내지 않음\n",
    "    conversionRates.csv : R패키지 \"quantmod\"에서 2017년 9월 14일 액세스 한 통화 변환율(USD)\n",
    "    RespondentTupeREADME.txt : schema.csv 파일의 \"Asked\"열에 응답을 디코딩 스키마"
   ]
  },
  {
   "cell_type": "code",
   "execution_count": 1,
   "metadata": {},
   "outputs": [],
   "source": [
    "%matplotlib inline\n",
    "\n",
    "import pandas as pd\n",
    "import numpy as np\n",
    "from scipy import stats\n",
    "import matplotlib.pyplot as plt\n",
    "import seaborn as sns\n",
    "\n",
    "import warnings\n",
    "warnings.filterwarnings('ignore')"
   ]
  },
  {
   "cell_type": "code",
   "execution_count": 2,
   "metadata": {},
   "outputs": [
    {
     "data": {
      "text/plain": [
       "(290, 3)"
      ]
     },
     "execution_count": 2,
     "metadata": {},
     "output_type": "execute_result"
    }
   ],
   "source": [
    "question = pd.read_csv('C:/Users/user/Desktop/workSpace/분석/데이터/kaggle_2017_survey/schema.csv')\n",
    "question.shape"
   ]
  },
  {
   "cell_type": "code",
   "execution_count": 3,
   "metadata": {},
   "outputs": [
    {
     "data": {
      "text/html": [
       "<div>\n",
       "<style scoped>\n",
       "    .dataframe tbody tr th:only-of-type {\n",
       "        vertical-align: middle;\n",
       "    }\n",
       "\n",
       "    .dataframe tbody tr th {\n",
       "        vertical-align: top;\n",
       "    }\n",
       "\n",
       "    .dataframe thead th {\n",
       "        text-align: right;\n",
       "    }\n",
       "</style>\n",
       "<table border=\"1\" class=\"dataframe\">\n",
       "  <thead>\n",
       "    <tr style=\"text-align: right;\">\n",
       "      <th></th>\n",
       "      <th>Column</th>\n",
       "      <th>Question</th>\n",
       "      <th>Asked</th>\n",
       "    </tr>\n",
       "  </thead>\n",
       "  <tbody>\n",
       "    <tr>\n",
       "      <th>0</th>\n",
       "      <td>GenderSelect</td>\n",
       "      <td>Select your gender identity. - Selected Choice</td>\n",
       "      <td>All</td>\n",
       "    </tr>\n",
       "    <tr>\n",
       "      <th>1</th>\n",
       "      <td>GenderFreeForm</td>\n",
       "      <td>Select your gender identity. - A different ide...</td>\n",
       "      <td>All</td>\n",
       "    </tr>\n",
       "    <tr>\n",
       "      <th>2</th>\n",
       "      <td>Country</td>\n",
       "      <td>Select the country you currently live in.</td>\n",
       "      <td>All</td>\n",
       "    </tr>\n",
       "    <tr>\n",
       "      <th>3</th>\n",
       "      <td>Age</td>\n",
       "      <td>What's your age?</td>\n",
       "      <td>All</td>\n",
       "    </tr>\n",
       "    <tr>\n",
       "      <th>4</th>\n",
       "      <td>EmploymentStatus</td>\n",
       "      <td>What's your current employment status?</td>\n",
       "      <td>All</td>\n",
       "    </tr>\n",
       "  </tbody>\n",
       "</table>\n",
       "</div>"
      ],
      "text/plain": [
       "             Column                                           Question Asked\n",
       "0      GenderSelect     Select your gender identity. - Selected Choice   All\n",
       "1    GenderFreeForm  Select your gender identity. - A different ide...   All\n",
       "2           Country          Select the country you currently live in.   All\n",
       "3               Age                                   What's your age?   All\n",
       "4  EmploymentStatus             What's your current employment status?   All"
      ]
     },
     "execution_count": 3,
     "metadata": {},
     "output_type": "execute_result"
    }
   ],
   "source": [
    "question.head()"
   ]
  },
  {
   "cell_type": "code",
   "execution_count": 4,
   "metadata": {},
   "outputs": [
    {
     "data": {
      "text/plain": [
       "(16716, 228)"
      ]
     },
     "execution_count": 4,
     "metadata": {},
     "output_type": "execute_result"
    }
   ],
   "source": [
    "mcq = pd.read_csv('C:/Users/user/Desktop/workSpace/분석/데이터/kaggle_2017_survey/multipleChoiceResponses.csv', engine = 'python')    # 오류가 나면 low_memory = False\n",
    "mcq.shape"
   ]
  },
  {
   "cell_type": "code",
   "execution_count": 5,
   "metadata": {},
   "outputs": [
    {
     "data": {
      "text/html": [
       "<div>\n",
       "<style scoped>\n",
       "    .dataframe tbody tr th:only-of-type {\n",
       "        vertical-align: middle;\n",
       "    }\n",
       "\n",
       "    .dataframe tbody tr th {\n",
       "        vertical-align: top;\n",
       "    }\n",
       "\n",
       "    .dataframe thead th {\n",
       "        text-align: right;\n",
       "    }\n",
       "</style>\n",
       "<table border=\"1\" class=\"dataframe\">\n",
       "  <thead>\n",
       "    <tr style=\"text-align: right;\">\n",
       "      <th></th>\n",
       "      <th>GenderSelect</th>\n",
       "      <th>Country</th>\n",
       "      <th>Age</th>\n",
       "      <th>EmploymentStatus</th>\n",
       "      <th>StudentStatus</th>\n",
       "      <th>LearningDataScience</th>\n",
       "      <th>CodeWriter</th>\n",
       "      <th>CareerSwitcher</th>\n",
       "      <th>CurrentJobTitleSelect</th>\n",
       "      <th>TitleFit</th>\n",
       "      <th>...</th>\n",
       "      <th>JobFactorExperienceLevel</th>\n",
       "      <th>JobFactorDepartment</th>\n",
       "      <th>JobFactorTitle</th>\n",
       "      <th>JobFactorCompanyFunding</th>\n",
       "      <th>JobFactorImpact</th>\n",
       "      <th>JobFactorRemote</th>\n",
       "      <th>JobFactorIndustry</th>\n",
       "      <th>JobFactorLeaderReputation</th>\n",
       "      <th>JobFactorDiversity</th>\n",
       "      <th>JobFactorPublishingOpportunity</th>\n",
       "    </tr>\n",
       "  </thead>\n",
       "  <tbody>\n",
       "    <tr>\n",
       "      <th>0</th>\n",
       "      <td>Non-binary, genderqueer, or gender non-conforming</td>\n",
       "      <td>NaN</td>\n",
       "      <td>NaN</td>\n",
       "      <td>Employed full-time</td>\n",
       "      <td>NaN</td>\n",
       "      <td>NaN</td>\n",
       "      <td>Yes</td>\n",
       "      <td>NaN</td>\n",
       "      <td>DBA/Database Engineer</td>\n",
       "      <td>Fine</td>\n",
       "      <td>...</td>\n",
       "      <td>NaN</td>\n",
       "      <td>NaN</td>\n",
       "      <td>NaN</td>\n",
       "      <td>NaN</td>\n",
       "      <td>NaN</td>\n",
       "      <td>NaN</td>\n",
       "      <td>NaN</td>\n",
       "      <td>NaN</td>\n",
       "      <td>NaN</td>\n",
       "      <td>NaN</td>\n",
       "    </tr>\n",
       "    <tr>\n",
       "      <th>1</th>\n",
       "      <td>Female</td>\n",
       "      <td>United States</td>\n",
       "      <td>30.0</td>\n",
       "      <td>Not employed, but looking for work</td>\n",
       "      <td>NaN</td>\n",
       "      <td>NaN</td>\n",
       "      <td>NaN</td>\n",
       "      <td>NaN</td>\n",
       "      <td>NaN</td>\n",
       "      <td>NaN</td>\n",
       "      <td>...</td>\n",
       "      <td>NaN</td>\n",
       "      <td>NaN</td>\n",
       "      <td>NaN</td>\n",
       "      <td>NaN</td>\n",
       "      <td>NaN</td>\n",
       "      <td>NaN</td>\n",
       "      <td>NaN</td>\n",
       "      <td>Somewhat important</td>\n",
       "      <td>NaN</td>\n",
       "      <td>NaN</td>\n",
       "    </tr>\n",
       "    <tr>\n",
       "      <th>2</th>\n",
       "      <td>Male</td>\n",
       "      <td>Canada</td>\n",
       "      <td>28.0</td>\n",
       "      <td>Not employed, but looking for work</td>\n",
       "      <td>NaN</td>\n",
       "      <td>NaN</td>\n",
       "      <td>NaN</td>\n",
       "      <td>NaN</td>\n",
       "      <td>NaN</td>\n",
       "      <td>NaN</td>\n",
       "      <td>...</td>\n",
       "      <td>Very Important</td>\n",
       "      <td>Very Important</td>\n",
       "      <td>Very Important</td>\n",
       "      <td>Very Important</td>\n",
       "      <td>Very Important</td>\n",
       "      <td>Very Important</td>\n",
       "      <td>Very Important</td>\n",
       "      <td>Very Important</td>\n",
       "      <td>Very Important</td>\n",
       "      <td>Very Important</td>\n",
       "    </tr>\n",
       "    <tr>\n",
       "      <th>3</th>\n",
       "      <td>Male</td>\n",
       "      <td>United States</td>\n",
       "      <td>56.0</td>\n",
       "      <td>Independent contractor, freelancer, or self-em...</td>\n",
       "      <td>NaN</td>\n",
       "      <td>NaN</td>\n",
       "      <td>Yes</td>\n",
       "      <td>NaN</td>\n",
       "      <td>Operations Research Practitioner</td>\n",
       "      <td>Poorly</td>\n",
       "      <td>...</td>\n",
       "      <td>NaN</td>\n",
       "      <td>NaN</td>\n",
       "      <td>NaN</td>\n",
       "      <td>NaN</td>\n",
       "      <td>NaN</td>\n",
       "      <td>NaN</td>\n",
       "      <td>NaN</td>\n",
       "      <td>NaN</td>\n",
       "      <td>NaN</td>\n",
       "      <td>NaN</td>\n",
       "    </tr>\n",
       "    <tr>\n",
       "      <th>4</th>\n",
       "      <td>Male</td>\n",
       "      <td>Taiwan</td>\n",
       "      <td>38.0</td>\n",
       "      <td>Employed full-time</td>\n",
       "      <td>NaN</td>\n",
       "      <td>NaN</td>\n",
       "      <td>Yes</td>\n",
       "      <td>NaN</td>\n",
       "      <td>Computer Scientist</td>\n",
       "      <td>Fine</td>\n",
       "      <td>...</td>\n",
       "      <td>NaN</td>\n",
       "      <td>NaN</td>\n",
       "      <td>NaN</td>\n",
       "      <td>NaN</td>\n",
       "      <td>NaN</td>\n",
       "      <td>NaN</td>\n",
       "      <td>NaN</td>\n",
       "      <td>NaN</td>\n",
       "      <td>NaN</td>\n",
       "      <td>NaN</td>\n",
       "    </tr>\n",
       "  </tbody>\n",
       "</table>\n",
       "<p>5 rows × 228 columns</p>\n",
       "</div>"
      ],
      "text/plain": [
       "                                        GenderSelect        Country   Age  \\\n",
       "0  Non-binary, genderqueer, or gender non-conforming            NaN   NaN   \n",
       "1                                             Female  United States  30.0   \n",
       "2                                               Male         Canada  28.0   \n",
       "3                                               Male  United States  56.0   \n",
       "4                                               Male         Taiwan  38.0   \n",
       "\n",
       "                                    EmploymentStatus StudentStatus  \\\n",
       "0                                 Employed full-time           NaN   \n",
       "1                 Not employed, but looking for work           NaN   \n",
       "2                 Not employed, but looking for work           NaN   \n",
       "3  Independent contractor, freelancer, or self-em...           NaN   \n",
       "4                                 Employed full-time           NaN   \n",
       "\n",
       "  LearningDataScience CodeWriter CareerSwitcher  \\\n",
       "0                 NaN        Yes            NaN   \n",
       "1                 NaN        NaN            NaN   \n",
       "2                 NaN        NaN            NaN   \n",
       "3                 NaN        Yes            NaN   \n",
       "4                 NaN        Yes            NaN   \n",
       "\n",
       "              CurrentJobTitleSelect TitleFit  ... JobFactorExperienceLevel  \\\n",
       "0             DBA/Database Engineer     Fine  ...                      NaN   \n",
       "1                               NaN      NaN  ...                      NaN   \n",
       "2                               NaN      NaN  ...           Very Important   \n",
       "3  Operations Research Practitioner   Poorly  ...                      NaN   \n",
       "4                Computer Scientist     Fine  ...                      NaN   \n",
       "\n",
       "  JobFactorDepartment  JobFactorTitle JobFactorCompanyFunding JobFactorImpact  \\\n",
       "0                 NaN             NaN                     NaN             NaN   \n",
       "1                 NaN             NaN                     NaN             NaN   \n",
       "2      Very Important  Very Important          Very Important  Very Important   \n",
       "3                 NaN             NaN                     NaN             NaN   \n",
       "4                 NaN             NaN                     NaN             NaN   \n",
       "\n",
       "  JobFactorRemote JobFactorIndustry JobFactorLeaderReputation  \\\n",
       "0             NaN               NaN                       NaN   \n",
       "1             NaN               NaN        Somewhat important   \n",
       "2  Very Important    Very Important            Very Important   \n",
       "3             NaN               NaN                       NaN   \n",
       "4             NaN               NaN                       NaN   \n",
       "\n",
       "  JobFactorDiversity JobFactorPublishingOpportunity  \n",
       "0                NaN                            NaN  \n",
       "1                NaN                            NaN  \n",
       "2     Very Important                 Very Important  \n",
       "3                NaN                            NaN  \n",
       "4                NaN                            NaN  \n",
       "\n",
       "[5 rows x 228 columns]"
      ]
     },
     "execution_count": 5,
     "metadata": {},
     "output_type": "execute_result"
    }
   ],
   "source": [
    "mcq.head()"
   ]
  },
  {
   "cell_type": "code",
   "execution_count": 6,
   "metadata": {},
   "outputs": [
    {
     "data": {
      "text/plain": [
       "Index(['GenderSelect', 'Country', 'Age', 'EmploymentStatus', 'StudentStatus',\n",
       "       'LearningDataScience', 'CodeWriter', 'CareerSwitcher',\n",
       "       'CurrentJobTitleSelect', 'TitleFit',\n",
       "       ...\n",
       "       'JobFactorExperienceLevel', 'JobFactorDepartment', 'JobFactorTitle',\n",
       "       'JobFactorCompanyFunding', 'JobFactorImpact', 'JobFactorRemote',\n",
       "       'JobFactorIndustry', 'JobFactorLeaderReputation', 'JobFactorDiversity',\n",
       "       'JobFactorPublishingOpportunity'],\n",
       "      dtype='object', length=228)"
      ]
     },
     "execution_count": 6,
     "metadata": {},
     "output_type": "execute_result"
    }
   ],
   "source": [
    "mcq.columns"
   ]
  },
  {
   "cell_type": "code",
   "execution_count": 7,
   "metadata": {},
   "outputs": [
    {
     "data": {
      "text/plain": [
       "<matplotlib.axes._subplots.AxesSubplot at 0x1e643224700>"
      ]
     },
     "execution_count": 7,
     "metadata": {},
     "output_type": "execute_result"
    },
    {
     "data": {
      "image/png": "[encoded data removed]",
      "text/plain": [
       "<Figure size 864x360 with 2 Axes>"
      ]
     },
     "metadata": {
      "needs_background": "light"
     },
     "output_type": "display_data"
    }
   ],
   "source": [
    "# missingno는 결착치 데이터 시각화\n",
    "# 결측치 데이터 칼럼이 많아 아래 그래프만으로는 내용을 파악하기 힘들다\n",
    "\n",
    "# !pip install missingno\n",
    "import missingno as msno\n",
    "\n",
    "msno.matrix(mcq, figsize = (12,5))"
   ]
  },
  {
   "cell_type": "code",
   "execution_count": 8,
   "metadata": {},
   "outputs": [
    {
     "data": {
      "text/plain": [
       "<matplotlib.axes._subplots.AxesSubplot at 0x1e643354460>"
      ]
     },
     "execution_count": 8,
     "metadata": {},
     "output_type": "execute_result"
    },
    {
     "data": {
      "image/png": "[encoded data removed]",
      "text/plain": [
       "<Figure size 432x288 with 1 Axes>"
      ]
     },
     "metadata": {
      "needs_background": "light"
     },
     "output_type": "display_data"
    }
   ],
   "source": [
    "# 성별\n",
    "sns.countplot(y='GenderSelect', data = mcq)"
   ]
  },
  {
   "cell_type": "code",
   "execution_count": 9,
   "metadata": {
    "scrolled": true
   },
   "outputs": [
    {
     "name": "stdout",
     "output_type": "stream",
     "text": [
      "                             Country\n",
      "United States                   4197\n",
      "India                           2704\n",
      "Other                           1023\n",
      "Russia                           578\n",
      "United Kingdom                   535\n",
      "People 's Republic of China      471\n",
      "Brazil                           465\n",
      "Germany                          460\n",
      "France                           442\n",
      "Canada                           440\n",
      "Australia                        421\n",
      "Spain                            320\n",
      "Japan                            277\n",
      "Taiwan                           254\n",
      "Italy                            238\n",
      "Netherlands                      205\n",
      "Ukraine                          196\n",
      "South Korea                      194\n",
      "Singapore                        184\n",
      "Poland                           184\n",
      "Pakistan                         161\n",
      "Turkey                           144\n",
      "Indonesia                        131\n",
      "Switzerland                      129\n",
      "South Africa                     127\n",
      "Mexico                           126\n",
      "Colombia                         113\n",
      "Iran                             112\n",
      "Israel                           105\n",
      "Ireland                           94\n",
      "Portugal                          93\n",
      "Argentina                         92\n",
      "Belgium                           91\n",
      "Sweden                            89\n",
      "Philippines                       84\n",
      "Greece                            81\n",
      "Malaysia                          79\n",
      "Denmark                           78\n",
      "New Zealand                       74\n",
      "Nigeria                           73\n",
      "Vietnam                           71\n",
      "Republic of China                 67\n",
      "Finland                           67\n",
      "Egypt                             66\n",
      "Hungary                           66\n",
      "Hong Kong                         65\n",
      "Romania                           59\n",
      "Kenya                             59\n",
      "Belarus                           54\n",
      "Czech Republic                    53\n",
      "Norway                            53\n",
      "Chile                             51\n"
     ]
    }
   ],
   "source": [
    "# contry 칼럼을 인덱스 지정\n",
    "\n",
    "con_df = pd.DataFrame(mcq['Country'].value_counts())\n",
    "print(con_df)\n"
   ]
  },
  {
   "cell_type": "code",
   "execution_count": 10,
   "metadata": {
    "scrolled": true
   },
   "outputs": [
    {
     "data": {
      "text/html": [
       "<div>\n",
       "<style scoped>\n",
       "    .dataframe tbody tr th:only-of-type {\n",
       "        vertical-align: middle;\n",
       "    }\n",
       "\n",
       "    .dataframe tbody tr th {\n",
       "        vertical-align: top;\n",
       "    }\n",
       "\n",
       "    .dataframe thead th {\n",
       "        text-align: right;\n",
       "    }\n",
       "</style>\n",
       "<table border=\"1\" class=\"dataframe\">\n",
       "  <thead>\n",
       "    <tr style=\"text-align: right;\">\n",
       "      <th></th>\n",
       "      <th>응답 수</th>\n",
       "      <th>국가</th>\n",
       "    </tr>\n",
       "  </thead>\n",
       "  <tbody>\n",
       "    <tr>\n",
       "      <th>0</th>\n",
       "      <td>4197</td>\n",
       "      <td>United States</td>\n",
       "    </tr>\n",
       "    <tr>\n",
       "      <th>1</th>\n",
       "      <td>2704</td>\n",
       "      <td>India</td>\n",
       "    </tr>\n",
       "    <tr>\n",
       "      <th>2</th>\n",
       "      <td>1023</td>\n",
       "      <td>Other</td>\n",
       "    </tr>\n",
       "    <tr>\n",
       "      <th>3</th>\n",
       "      <td>578</td>\n",
       "      <td>Russia</td>\n",
       "    </tr>\n",
       "    <tr>\n",
       "      <th>4</th>\n",
       "      <td>535</td>\n",
       "      <td>United Kingdom</td>\n",
       "    </tr>\n",
       "    <tr>\n",
       "      <th>5</th>\n",
       "      <td>471</td>\n",
       "      <td>People 's Republic of China</td>\n",
       "    </tr>\n",
       "    <tr>\n",
       "      <th>6</th>\n",
       "      <td>465</td>\n",
       "      <td>Brazil</td>\n",
       "    </tr>\n",
       "    <tr>\n",
       "      <th>7</th>\n",
       "      <td>460</td>\n",
       "      <td>Germany</td>\n",
       "    </tr>\n",
       "    <tr>\n",
       "      <th>8</th>\n",
       "      <td>442</td>\n",
       "      <td>France</td>\n",
       "    </tr>\n",
       "    <tr>\n",
       "      <th>9</th>\n",
       "      <td>440</td>\n",
       "      <td>Canada</td>\n",
       "    </tr>\n",
       "    <tr>\n",
       "      <th>10</th>\n",
       "      <td>421</td>\n",
       "      <td>Australia</td>\n",
       "    </tr>\n",
       "    <tr>\n",
       "      <th>11</th>\n",
       "      <td>320</td>\n",
       "      <td>Spain</td>\n",
       "    </tr>\n",
       "    <tr>\n",
       "      <th>12</th>\n",
       "      <td>277</td>\n",
       "      <td>Japan</td>\n",
       "    </tr>\n",
       "    <tr>\n",
       "      <th>13</th>\n",
       "      <td>254</td>\n",
       "      <td>Taiwan</td>\n",
       "    </tr>\n",
       "    <tr>\n",
       "      <th>14</th>\n",
       "      <td>238</td>\n",
       "      <td>Italy</td>\n",
       "    </tr>\n",
       "    <tr>\n",
       "      <th>15</th>\n",
       "      <td>205</td>\n",
       "      <td>Netherlands</td>\n",
       "    </tr>\n",
       "    <tr>\n",
       "      <th>16</th>\n",
       "      <td>196</td>\n",
       "      <td>Ukraine</td>\n",
       "    </tr>\n",
       "    <tr>\n",
       "      <th>17</th>\n",
       "      <td>194</td>\n",
       "      <td>South Korea</td>\n",
       "    </tr>\n",
       "    <tr>\n",
       "      <th>18</th>\n",
       "      <td>184</td>\n",
       "      <td>Singapore</td>\n",
       "    </tr>\n",
       "    <tr>\n",
       "      <th>19</th>\n",
       "      <td>184</td>\n",
       "      <td>Poland</td>\n",
       "    </tr>\n",
       "  </tbody>\n",
       "</table>\n",
       "</div>"
      ],
      "text/plain": [
       "    응답 수                           국가\n",
       "0   4197                United States\n",
       "1   2704                        India\n",
       "2   1023                        Other\n",
       "3    578                       Russia\n",
       "4    535               United Kingdom\n",
       "5    471  People 's Republic of China\n",
       "6    465                       Brazil\n",
       "7    460                      Germany\n",
       "8    442                       France\n",
       "9    440                       Canada\n",
       "10   421                    Australia\n",
       "11   320                        Spain\n",
       "12   277                        Japan\n",
       "13   254                       Taiwan\n",
       "14   238                        Italy\n",
       "15   205                  Netherlands\n",
       "16   196                      Ukraine\n",
       "17   194                  South Korea\n",
       "18   184                    Singapore\n",
       "19   184                       Poland"
      ]
     },
     "execution_count": 10,
     "metadata": {},
     "output_type": "execute_result"
    }
   ],
   "source": [
    "# 칼럼의 순서대로 응담 수, 국가로 칼럼명 지정\n",
    "con_df['국가'] = con_df.index\n",
    "on_df.columns = ['응답 수', '국가']\n",
    "\n",
    "# 인덱스 칼럼을 삭제하고 순위를 알기 위해 reset_index()한다.\n",
    "con_df = con_df.reset_index().drop('index', axis = 1)\n",
    "con_df.head(20)"
   ]
  },
  {
   "cell_type": "code",
   "execution_count": 11,
   "metadata": {},
   "outputs": [
    {
     "data": {
      "text/plain": [
       "count    16385.000000\n",
       "mean        32.372841\n",
       "std         10.473487\n",
       "min          0.000000\n",
       "25%         25.000000\n",
       "50%         30.000000\n",
       "75%         37.000000\n",
       "max        100.000000\n",
       "Name: Age, dtype: float64"
      ]
     },
     "metadata": {},
     "output_type": "display_data"
    },
    {
     "data": {
      "text/plain": [
       "<matplotlib.axes._subplots.AxesSubplot at 0x1e6433839a0>"
      ]
     },
     "metadata": {},
     "output_type": "display_data"
    },
    {
     "data": {
      "image/png": "[encoded data removed]",
      "text/plain": [
       "<Figure size 432x288 with 1 Axes>"
      ]
     },
     "metadata": {
      "needs_background": "light"
     },
     "output_type": "display_data"
    }
   ],
   "source": [
    "# 연령에 대한 정보를 본다 (R의 summary)\n",
    "display(mcq['Age'].describe())\n",
    "display(sns.distplot(mcq[mcq['Age'] > 0]['Age']))"
   ]
  },
  {
   "cell_type": "code",
   "execution_count": 12,
   "metadata": {},
   "outputs": [
    {
     "data": {
      "text/plain": [
       "<matplotlib.axes._subplots.AxesSubplot at 0x1e6437ba1c0>"
      ]
     },
     "execution_count": 12,
     "metadata": {},
     "output_type": "execute_result"
    },
    {
     "data": {
      "image/png": "[encoded data removed]",
      "text/plain": [
       "<Figure size 432x288 with 1 Axes>"
      ]
     },
     "metadata": {
      "needs_background": "light"
     },
     "output_type": "display_data"
    }
   ],
   "source": [
    "# 학력에 대한 그래프\n",
    "sns.countplot(y = 'FormalEducation', data = mcq)"
   ]
  },
  {
   "cell_type": "code",
   "execution_count": 13,
   "metadata": {},
   "outputs": [
    {
     "data": {
      "text/html": [
       "<div>\n",
       "<style scoped>\n",
       "    .dataframe tbody tr th:only-of-type {\n",
       "        vertical-align: middle;\n",
       "    }\n",
       "\n",
       "    .dataframe tbody tr th {\n",
       "        vertical-align: top;\n",
       "    }\n",
       "\n",
       "    .dataframe thead th {\n",
       "        text-align: right;\n",
       "    }\n",
       "</style>\n",
       "<table border=\"1\" class=\"dataframe\">\n",
       "  <thead>\n",
       "    <tr style=\"text-align: right;\">\n",
       "      <th></th>\n",
       "      <th>응답 수</th>\n",
       "      <th>비율</th>\n",
       "    </tr>\n",
       "  </thead>\n",
       "  <tbody>\n",
       "    <tr>\n",
       "      <th>Computer Science</th>\n",
       "      <td>4397</td>\n",
       "      <td>0.331074</td>\n",
       "    </tr>\n",
       "    <tr>\n",
       "      <th>Mathematics or statistics</th>\n",
       "      <td>2220</td>\n",
       "      <td>0.167156</td>\n",
       "    </tr>\n",
       "    <tr>\n",
       "      <th>Engineering (non-computer focused)</th>\n",
       "      <td>1339</td>\n",
       "      <td>0.100821</td>\n",
       "    </tr>\n",
       "    <tr>\n",
       "      <th>Electrical Engineering</th>\n",
       "      <td>1303</td>\n",
       "      <td>0.098110</td>\n",
       "    </tr>\n",
       "    <tr>\n",
       "      <th>Other</th>\n",
       "      <td>848</td>\n",
       "      <td>0.063851</td>\n",
       "    </tr>\n",
       "    <tr>\n",
       "      <th>Physics</th>\n",
       "      <td>830</td>\n",
       "      <td>0.062495</td>\n",
       "    </tr>\n",
       "    <tr>\n",
       "      <th>Information technology, networking, or system administration</th>\n",
       "      <td>693</td>\n",
       "      <td>0.052180</td>\n",
       "    </tr>\n",
       "    <tr>\n",
       "      <th>A social science</th>\n",
       "      <td>531</td>\n",
       "      <td>0.039982</td>\n",
       "    </tr>\n",
       "    <tr>\n",
       "      <th>Biology</th>\n",
       "      <td>274</td>\n",
       "      <td>0.020631</td>\n",
       "    </tr>\n",
       "    <tr>\n",
       "      <th>Management information systems</th>\n",
       "      <td>237</td>\n",
       "      <td>0.017845</td>\n",
       "    </tr>\n",
       "    <tr>\n",
       "      <th>A humanities discipline</th>\n",
       "      <td>198</td>\n",
       "      <td>0.014909</td>\n",
       "    </tr>\n",
       "    <tr>\n",
       "      <th>A health science</th>\n",
       "      <td>152</td>\n",
       "      <td>0.011445</td>\n",
       "    </tr>\n",
       "    <tr>\n",
       "      <th>Psychology</th>\n",
       "      <td>137</td>\n",
       "      <td>0.010315</td>\n",
       "    </tr>\n",
       "    <tr>\n",
       "      <th>I never declared a major</th>\n",
       "      <td>65</td>\n",
       "      <td>0.004894</td>\n",
       "    </tr>\n",
       "    <tr>\n",
       "      <th>Fine arts or performing arts</th>\n",
       "      <td>57</td>\n",
       "      <td>0.004292</td>\n",
       "    </tr>\n",
       "  </tbody>\n",
       "</table>\n",
       "</div>"
      ],
      "text/plain": [
       "                                                    응답 수        비율\n",
       "Computer Science                                    4397  0.331074\n",
       "Mathematics or statistics                           2220  0.167156\n",
       "Engineering (non-computer focused)                  1339  0.100821\n",
       "Electrical Engineering                              1303  0.098110\n",
       "Other                                                848  0.063851\n",
       "Physics                                              830  0.062495\n",
       "Information technology, networking, or system a...   693  0.052180\n",
       "A social science                                     531  0.039982\n",
       "Biology                                              274  0.020631\n",
       "Management information systems                       237  0.017845\n",
       "A humanities discipline                              198  0.014909\n",
       "A health science                                     152  0.011445\n",
       "Psychology                                           137  0.010315\n",
       "I never declared a major                              65  0.004894\n",
       "Fine arts or performing arts                          57  0.004292"
      ]
     },
     "metadata": {},
     "output_type": "display_data"
    },
    {
     "data": {
      "text/plain": [
       "<matplotlib.axes._subplots.AxesSubplot at 0x1e64337a490>"
      ]
     },
     "metadata": {},
     "output_type": "display_data"
    },
    {
     "data": {
      "image/png": "[encoded data removed]",
      "text/plain": [
       "<Figure size 432x576 with 1 Axes>"
      ]
     },
     "metadata": {
      "needs_background": "light"
     },
     "output_type": "display_data"
    }
   ],
   "source": [
    "# value_counts를 사용하면 그룹화 된 데이터의 카운트 값을 보여준다.\n",
    "# normalize = True 옵션은 데이터의 비율을 나타낸다.\n",
    "# 다음 그래프는 응답자들의 전공과 비율을 나타내는 표.\n",
    "mcq_major_count = pd.DataFrame(mcq['MajorSelect'].value_counts())\n",
    "mcq_major_percent = pd.DataFrame(mcq['MajorSelect'].value_counts(normalize = True))\n",
    "mcq_major_df = mcq_major_count.merge(mcq_major_percent, left_index = True, right_index = True)\n",
    "mcq_major_df.columns = ['응답 수', '비율']\n",
    "\n",
    "# 시각화\n",
    "plt.figure(figsize = (6, 8))\n",
    "\n",
    "display(mcq_major_df)\n",
    "display(sns.countplot(y = 'MajorSelect', data = mcq))"
   ]
  },
  {
   "cell_type": "code",
   "execution_count": 14,
   "metadata": {},
   "outputs": [
    {
     "data": {
      "text/html": [
       "<div>\n",
       "<style scoped>\n",
       "    .dataframe tbody tr th:only-of-type {\n",
       "        vertical-align: middle;\n",
       "    }\n",
       "\n",
       "    .dataframe tbody tr th {\n",
       "        vertical-align: top;\n",
       "    }\n",
       "\n",
       "    .dataframe thead th {\n",
       "        text-align: right;\n",
       "    }\n",
       "</style>\n",
       "<table border=\"1\" class=\"dataframe\">\n",
       "  <thead>\n",
       "    <tr style=\"text-align: right;\">\n",
       "      <th></th>\n",
       "      <th>응답 수</th>\n",
       "      <th>비율</th>\n",
       "    </tr>\n",
       "  </thead>\n",
       "  <tbody>\n",
       "    <tr>\n",
       "      <th>Employed full-time</th>\n",
       "      <td>10897</td>\n",
       "      <td>0.651890</td>\n",
       "    </tr>\n",
       "    <tr>\n",
       "      <th>Not employed, but looking for work</th>\n",
       "      <td>2110</td>\n",
       "      <td>0.126226</td>\n",
       "    </tr>\n",
       "    <tr>\n",
       "      <th>Independent contractor, freelancer, or self-employed</th>\n",
       "      <td>1330</td>\n",
       "      <td>0.079564</td>\n",
       "    </tr>\n",
       "    <tr>\n",
       "      <th>Not employed, and not looking for work</th>\n",
       "      <td>924</td>\n",
       "      <td>0.055276</td>\n",
       "    </tr>\n",
       "    <tr>\n",
       "      <th>Employed part-time</th>\n",
       "      <td>917</td>\n",
       "      <td>0.054858</td>\n",
       "    </tr>\n",
       "    <tr>\n",
       "      <th>I prefer not to say</th>\n",
       "      <td>420</td>\n",
       "      <td>0.025126</td>\n",
       "    </tr>\n",
       "    <tr>\n",
       "      <th>Retired</th>\n",
       "      <td>118</td>\n",
       "      <td>0.007059</td>\n",
       "    </tr>\n",
       "  </tbody>\n",
       "</table>\n",
       "</div>"
      ],
      "text/plain": [
       "                                                     응답 수        비율\n",
       "Employed full-time                                  10897  0.651890\n",
       "Not employed, but looking for work                   2110  0.126226\n",
       "Independent contractor, freelancer, or self-emp...   1330  0.079564\n",
       "Not employed, and not looking for work                924  0.055276\n",
       "Employed part-time                                    917  0.054858\n",
       "I prefer not to say                                   420  0.025126\n",
       "Retired                                               118  0.007059"
      ]
     },
     "metadata": {},
     "output_type": "display_data"
    },
    {
     "data": {
      "text/plain": [
       "<matplotlib.axes._subplots.AxesSubplot at 0x1e6438260a0>"
      ]
     },
     "metadata": {},
     "output_type": "display_data"
    },
    {
     "data": {
      "image/png": "[encoded data removed]",
      "text/plain": [
       "<Figure size 432x288 with 1 Axes>"
      ]
     },
     "metadata": {
      "needs_background": "light"
     },
     "output_type": "display_data"
    }
   ],
   "source": [
    "# 취업여부의 응답 수와 비율\n",
    "mcq_es_count = pd.DataFrame(\n",
    "    mcq['EmploymentStatus'].value_counts())\n",
    "mcq_es_percent = pd.DataFrame(\n",
    "    mcq['EmploymentStatus'].value_counts(normalize = True))\n",
    "mcq_es_df = mcq_es_count.merge(\n",
    "    mcq_es_percent, left_index = True, right_index = True)\n",
    "mcq_es_df.columns = ['응답 수', '비율']\n",
    "\n",
    "\n",
    "display(mcq_es_df)\n",
    "display(sns.countplot(y = 'EmploymentStatus', data = mcq))    # seaborn에서 바로 시각화 그래프 출력"
   ]
  },
  {
   "cell_type": "code",
   "execution_count": 15,
   "metadata": {},
   "outputs": [
    {
     "data": {
      "text/plain": [
       "<matplotlib.axes._subplots.AxesSubplot at 0x1e643342310>"
      ]
     },
     "execution_count": 15,
     "metadata": {},
     "output_type": "execute_result"
    },
    {
     "data": {
      "image/png": "[encoded data removed]",
      "text/plain": [
       "<Figure size 432x288 with 1 Axes>"
      ]
     },
     "metadata": {
      "needs_background": "light"
     },
     "output_type": "display_data"
    }
   ],
   "source": [
    "# Tenure항목은 데이터 사이언스 분야에서 코딩 경험이 얼마나 되는가 질문\n",
    "# 대부분이 5년 미만, 1,2년 경험이 많다.\n",
    "sns.countplot(y = 'Tenure', data = mcq)"
   ]
  },
  {
   "cell_type": "code",
   "execution_count": 17,
   "metadata": {},
   "outputs": [
    {
     "name": "stdout",
     "output_type": "stream",
     "text": [
      "The number of interviewees in Korea:194\n"
     ]
    },
    {
     "data": {
      "text/plain": [
       "<function matplotlib.pyplot.show(*args, **kw)>"
      ]
     },
     "execution_count": 17,
     "metadata": {},
     "output_type": "execute_result"
    },
    {
     "data": {
      "image/png": "[encoded data removed]",
      "text/plain": [
       "<Figure size 432x288 with 1 Axes>"
      ]
     },
     "metadata": {
      "needs_background": "light"
     },
     "output_type": "display_data"
    }
   ],
   "source": [
    "# 우리나라만 추출해 시각화(결측치는 삭제)\n",
    "korea = mcq.loc[(mcq['Country'] == 'South Korea')]\n",
    "\n",
    "print('The number of interviewees in Korea:' + str(korea.shape[0]))    # + str(korea.shape[0]) 응답자 수\n",
    "\n",
    "sns.distplot(korea['Age'].dropna())\n",
    "plt.title('South Korean')\n",
    "plt.show"
   ]
  },
  {
   "cell_type": "code",
   "execution_count": 21,
   "metadata": {},
   "outputs": [
    {
     "data": {
      "text/html": [
       "<div>\n",
       "<style scoped>\n",
       "    .dataframe tbody tr th:only-of-type {\n",
       "        vertical-align: middle;\n",
       "    }\n",
       "\n",
       "    .dataframe tbody tr th {\n",
       "        vertical-align: top;\n",
       "    }\n",
       "\n",
       "    .dataframe thead th {\n",
       "        text-align: right;\n",
       "    }\n",
       "</style>\n",
       "<table border=\"1\" class=\"dataframe\">\n",
       "  <thead>\n",
       "    <tr style=\"text-align: right;\">\n",
       "      <th></th>\n",
       "      <th>GenderSelect</th>\n",
       "    </tr>\n",
       "  </thead>\n",
       "  <tbody>\n",
       "    <tr>\n",
       "      <th>Male</th>\n",
       "      <td>156</td>\n",
       "    </tr>\n",
       "    <tr>\n",
       "      <th>Female</th>\n",
       "      <td>37</td>\n",
       "    </tr>\n",
       "    <tr>\n",
       "      <th>A different identity</th>\n",
       "      <td>1</td>\n",
       "    </tr>\n",
       "  </tbody>\n",
       "</table>\n",
       "</div>"
      ],
      "text/plain": [
       "                      GenderSelect\n",
       "Male                           156\n",
       "Female                          37\n",
       "A different identity             1"
      ]
     },
     "metadata": {},
     "output_type": "display_data"
    },
    {
     "data": {
      "text/plain": [
       "Text(0.5, 1.0, 'Korea')"
      ]
     },
     "metadata": {},
     "output_type": "display_data"
    },
    {
     "data": {
      "image/png": "[encoded data removed]",
      "text/plain": [
       "<Figure size 432x288 with 1 Axes>"
      ]
     },
     "metadata": {
      "needs_background": "light"
     },
     "output_type": "display_data"
    }
   ],
   "source": [
    "# 한국인의 성비와 시각화\n",
    "sns.countplot(x='GenderSelect', data = korea)\n",
    "\n",
    "display(pd.DataFrame(korea['GenderSelect'].value_counts()))\n",
    "display(plt.title('Korea'))"
   ]
  },
  {
   "cell_type": "code",
   "execution_count": 29,
   "metadata": {},
   "outputs": [
    {
     "data": {
      "text/plain": [
       "Text(0.5, 1.0, 'korean Male')"
      ]
     },
     "execution_count": 29,
     "metadata": {},
     "output_type": "execute_result"
    },
    {
     "data": {
      "image/png": "[encoded data removed]",
      "text/plain": [
       "<Figure size 864x360 with 2 Axes>"
      ]
     },
     "metadata": {
      "needs_background": "light"
     },
     "output_type": "display_data"
    }
   ],
   "source": [
    "# 성별을 연령대로 나누어 시각화\n",
    "figure, (ax1, ax2) = plt.subplots(ncols = 2)\n",
    "\n",
    "figure.set_size_inches(12, 5)\n",
    "sns.distplot(korea['Age'].loc[korea['GenderSelect'] == 'Female'].dropna(),\n",
    "            norm_hist = False, color = sns.color_palette(\"Paired\")[4], ax = ax1)\n",
    "plt.title('korean Female')\n",
    "\n",
    "sns.distplot(korea['Age'].loc[korea['GenderSelect'] == 'Male'].dropna(),\n",
    "            norm_hist = False, color = sns.color_palette(\"Paired\")[0], ax = ax2)\n",
    "plt.title('korean Male')"
   ]
  },
  {
   "cell_type": "code",
   "execution_count": 35,
   "metadata": {},
   "outputs": [
    {
     "data": {
      "image/png": "[encoded data removed]",
      "text/plain": [
       "<Figure size 432x288 with 1 Axes>"
      ]
     },
     "metadata": {
      "needs_background": "light"
     },
     "output_type": "display_data"
    }
   ],
   "source": [
    "sns.barplot(x = korea['EmploymentStatus'].unique(), y = korea['EmploymentStatus'].value_counts())\n",
    "plt.xticks(rotation = 30, ha = 'right')\n",
    "plt.title('Employment status of the korean')\n",
    "plt.ylabel('')\n",
    "plt.show()"
   ]
  },
  {
   "cell_type": "code",
   "execution_count": 36,
   "metadata": {},
   "outputs": [
    {
     "data": {
      "image/png": "[encoded data removed]",
      "text/plain": [
       "<Figure size 432x288 with 1 Axes>"
      ]
     },
     "metadata": {
      "needs_background": "light"
     },
     "output_type": "display_data"
    }
   ],
   "source": [
    "korea['StudentStatus'] = korea['StudentStatus'].fillna('No')\n",
    "sns.countplot(x = 'StudentStatus', data = korea)\n",
    "plt.title('korean')\n",
    "plt.show()"
   ]
  },
  {
   "cell_type": "code",
   "execution_count": 37,
   "metadata": {},
   "outputs": [
    {
     "name": "stdout",
     "output_type": "stream",
     "text": [
      "(10897, 228)\n",
      "(2110, 228)\n"
     ]
    }
   ],
   "source": [
    "full_time = mcq.loc[(mcq['EmploymentStatus'] == 'Employed full-time')]\n",
    "print(full_time.shape)\n",
    "looking_for_job = mcq.loc[(\n",
    "    mcq['EmploymentStatus'] == 'Not employed, but looking for work')]\n",
    "print(looking_for_job.shape)"
   ]
  },
  {
   "cell_type": "code",
   "execution_count": null,
   "metadata": {},
   "outputs": [],
   "source": [
    "# \n",
    "sns.countplot(y = )"
   ]
  }
 ],
 "metadata": {
  "kernelspec": {
   "display_name": "Python 3",
   "language": "python",
   "name": "python3"
  },
  "language_info": {
   "codemirror_mode": {
    "name": "ipython",
    "version": 3
   },
   "file_extension": ".py",
   "mimetype": "text/x-python",
   "name": "python",
   "nbconvert_exporter": "python",
   "pygments_lexer": "ipython3",
   "version": "3.8.3"
  }
 },
 "nbformat": 4,
 "nbformat_minor": 4
}
